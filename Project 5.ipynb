{
 "cells": [
  {
   "cell_type": "code",
   "execution_count": 15,
   "id": "72834cee-9d76-4f25-b57b-faf6886af36b",
   "metadata": {},
   "outputs": [],
   "source": [
    "#import liberies\n",
    "import numpy as np\n",
    "import pandas as pd\n",
    "import matplotlib.pyplot as plt\n",
    "import seaborn as sns"
   ]
  },
  {
   "cell_type": "code",
   "execution_count": 16,
   "id": "4bfdeded-509d-4c36-8eeb-8bec54de0483",
   "metadata": {},
   "outputs": [],
   "source": [
    "#data load\n",
    "data=pd.read_csv(r\"C:\\Users\\manju\\Downloads\\powerlifting_dataset.csv\")"
   ]
  },
  {
   "cell_type": "code",
   "execution_count": 3,
   "id": "5d7d40bd-a16c-449c-a607-81f2bb8085d2",
   "metadata": {},
   "outputs": [
    {
     "data": {
      "text/html": [
       "<div>\n",
       "<style scoped>\n",
       "    .dataframe tbody tr th:only-of-type {\n",
       "        vertical-align: middle;\n",
       "    }\n",
       "\n",
       "    .dataframe tbody tr th {\n",
       "        vertical-align: top;\n",
       "    }\n",
       "\n",
       "    .dataframe thead th {\n",
       "        text-align: right;\n",
       "    }\n",
       "</style>\n",
       "<table border=\"1\" class=\"dataframe\">\n",
       "  <thead>\n",
       "    <tr style=\"text-align: right;\">\n",
       "      <th></th>\n",
       "      <th>Lifter Name</th>\n",
       "      <th>Age</th>\n",
       "      <th>Weight Class</th>\n",
       "      <th>Lift Type</th>\n",
       "      <th>Amount Lifted (kg)</th>\n",
       "    </tr>\n",
       "  </thead>\n",
       "  <tbody>\n",
       "    <tr>\n",
       "      <th>0</th>\n",
       "      <td>Jessica Wilson</td>\n",
       "      <td>46</td>\n",
       "      <td>59 kg</td>\n",
       "      <td>Bench Press</td>\n",
       "      <td>269</td>\n",
       "    </tr>\n",
       "    <tr>\n",
       "      <th>1</th>\n",
       "      <td>John Doe</td>\n",
       "      <td>60</td>\n",
       "      <td>83 kg</td>\n",
       "      <td>Bench Press</td>\n",
       "      <td>179</td>\n",
       "    </tr>\n",
       "    <tr>\n",
       "      <th>2</th>\n",
       "      <td>Emily Davis</td>\n",
       "      <td>41</td>\n",
       "      <td>105 kg</td>\n",
       "      <td>Bench Press</td>\n",
       "      <td>235</td>\n",
       "    </tr>\n",
       "    <tr>\n",
       "      <th>3</th>\n",
       "      <td>Emily Davis</td>\n",
       "      <td>33</td>\n",
       "      <td>66 kg</td>\n",
       "      <td>Squat</td>\n",
       "      <td>359</td>\n",
       "    </tr>\n",
       "    <tr>\n",
       "      <th>4</th>\n",
       "      <td>Laura Taylor</td>\n",
       "      <td>56</td>\n",
       "      <td>74 kg</td>\n",
       "      <td>Deadlift</td>\n",
       "      <td>221</td>\n",
       "    </tr>\n",
       "    <tr>\n",
       "      <th>5</th>\n",
       "      <td>Sarah Thomas</td>\n",
       "      <td>56</td>\n",
       "      <td>74 kg</td>\n",
       "      <td>Squat</td>\n",
       "      <td>264</td>\n",
       "    </tr>\n",
       "    <tr>\n",
       "      <th>6</th>\n",
       "      <td>Emily Davis</td>\n",
       "      <td>40</td>\n",
       "      <td>83 kg</td>\n",
       "      <td>Deadlift</td>\n",
       "      <td>132</td>\n",
       "    </tr>\n",
       "    <tr>\n",
       "      <th>7</th>\n",
       "      <td>Jessica Wilson</td>\n",
       "      <td>25</td>\n",
       "      <td>120 kg</td>\n",
       "      <td>Bench Press</td>\n",
       "      <td>178</td>\n",
       "    </tr>\n",
       "    <tr>\n",
       "      <th>8</th>\n",
       "      <td>Michael Johnson</td>\n",
       "      <td>55</td>\n",
       "      <td>93 kg</td>\n",
       "      <td>Squat</td>\n",
       "      <td>265</td>\n",
       "    </tr>\n",
       "    <tr>\n",
       "      <th>9</th>\n",
       "      <td>Chris Brown</td>\n",
       "      <td>20</td>\n",
       "      <td>66 kg</td>\n",
       "      <td>Bench Press</td>\n",
       "      <td>239</td>\n",
       "    </tr>\n",
       "  </tbody>\n",
       "</table>\n",
       "</div>"
      ],
      "text/plain": [
       "       Lifter Name  Age Weight Class    Lift Type  Amount Lifted (kg)\n",
       "0   Jessica Wilson   46        59 kg  Bench Press                 269\n",
       "1         John Doe   60        83 kg  Bench Press                 179\n",
       "2      Emily Davis   41       105 kg  Bench Press                 235\n",
       "3      Emily Davis   33        66 kg        Squat                 359\n",
       "4     Laura Taylor   56        74 kg     Deadlift                 221\n",
       "5     Sarah Thomas   56        74 kg        Squat                 264\n",
       "6      Emily Davis   40        83 kg     Deadlift                 132\n",
       "7   Jessica Wilson   25       120 kg  Bench Press                 178\n",
       "8  Michael Johnson   55        93 kg        Squat                 265\n",
       "9      Chris Brown   20        66 kg  Bench Press                 239"
      ]
     },
     "execution_count": 3,
     "metadata": {},
     "output_type": "execute_result"
    }
   ],
   "source": [
    "data.head(10)"
   ]
  },
  {
   "cell_type": "code",
   "execution_count": 4,
   "id": "a3c15306-f339-4b24-88f4-ec9b981d7961",
   "metadata": {},
   "outputs": [
    {
     "data": {
      "text/html": [
       "<div>\n",
       "<style scoped>\n",
       "    .dataframe tbody tr th:only-of-type {\n",
       "        vertical-align: middle;\n",
       "    }\n",
       "\n",
       "    .dataframe tbody tr th {\n",
       "        vertical-align: top;\n",
       "    }\n",
       "\n",
       "    .dataframe thead th {\n",
       "        text-align: right;\n",
       "    }\n",
       "</style>\n",
       "<table border=\"1\" class=\"dataframe\">\n",
       "  <thead>\n",
       "    <tr style=\"text-align: right;\">\n",
       "      <th></th>\n",
       "      <th>Lifter Name</th>\n",
       "      <th>Age</th>\n",
       "      <th>Weight Class</th>\n",
       "      <th>Lift Type</th>\n",
       "      <th>Amount Lifted (kg)</th>\n",
       "    </tr>\n",
       "  </thead>\n",
       "  <tbody>\n",
       "    <tr>\n",
       "      <th>2990</th>\n",
       "      <td>Laura Taylor</td>\n",
       "      <td>23</td>\n",
       "      <td>Open</td>\n",
       "      <td>Deadlift</td>\n",
       "      <td>287</td>\n",
       "    </tr>\n",
       "    <tr>\n",
       "      <th>2991</th>\n",
       "      <td>John Doe</td>\n",
       "      <td>64</td>\n",
       "      <td>93 kg</td>\n",
       "      <td>Deadlift</td>\n",
       "      <td>263</td>\n",
       "    </tr>\n",
       "    <tr>\n",
       "      <th>2992</th>\n",
       "      <td>John Doe</td>\n",
       "      <td>51</td>\n",
       "      <td>52 kg</td>\n",
       "      <td>Bench Press</td>\n",
       "      <td>170</td>\n",
       "    </tr>\n",
       "    <tr>\n",
       "      <th>2993</th>\n",
       "      <td>Laura Taylor</td>\n",
       "      <td>42</td>\n",
       "      <td>66 kg</td>\n",
       "      <td>Squat</td>\n",
       "      <td>187</td>\n",
       "    </tr>\n",
       "    <tr>\n",
       "      <th>2994</th>\n",
       "      <td>Sarah Thomas</td>\n",
       "      <td>62</td>\n",
       "      <td>105 kg</td>\n",
       "      <td>Bench Press</td>\n",
       "      <td>191</td>\n",
       "    </tr>\n",
       "    <tr>\n",
       "      <th>2995</th>\n",
       "      <td>John Doe</td>\n",
       "      <td>46</td>\n",
       "      <td>74 kg</td>\n",
       "      <td>Bench Press</td>\n",
       "      <td>246</td>\n",
       "    </tr>\n",
       "    <tr>\n",
       "      <th>2996</th>\n",
       "      <td>Daniel Lee</td>\n",
       "      <td>39</td>\n",
       "      <td>Open</td>\n",
       "      <td>Deadlift</td>\n",
       "      <td>244</td>\n",
       "    </tr>\n",
       "    <tr>\n",
       "      <th>2997</th>\n",
       "      <td>Sarah Thomas</td>\n",
       "      <td>62</td>\n",
       "      <td>Open</td>\n",
       "      <td>Squat</td>\n",
       "      <td>148</td>\n",
       "    </tr>\n",
       "    <tr>\n",
       "      <th>2998</th>\n",
       "      <td>Chris Brown</td>\n",
       "      <td>32</td>\n",
       "      <td>93 kg</td>\n",
       "      <td>Bench Press</td>\n",
       "      <td>333</td>\n",
       "    </tr>\n",
       "    <tr>\n",
       "      <th>2999</th>\n",
       "      <td>Daniel Lee</td>\n",
       "      <td>22</td>\n",
       "      <td>83 kg</td>\n",
       "      <td>Deadlift</td>\n",
       "      <td>280</td>\n",
       "    </tr>\n",
       "  </tbody>\n",
       "</table>\n",
       "</div>"
      ],
      "text/plain": [
       "       Lifter Name  Age Weight Class    Lift Type  Amount Lifted (kg)\n",
       "2990  Laura Taylor   23         Open     Deadlift                 287\n",
       "2991      John Doe   64        93 kg     Deadlift                 263\n",
       "2992      John Doe   51        52 kg  Bench Press                 170\n",
       "2993  Laura Taylor   42        66 kg        Squat                 187\n",
       "2994  Sarah Thomas   62       105 kg  Bench Press                 191\n",
       "2995      John Doe   46        74 kg  Bench Press                 246\n",
       "2996    Daniel Lee   39         Open     Deadlift                 244\n",
       "2997  Sarah Thomas   62         Open        Squat                 148\n",
       "2998   Chris Brown   32        93 kg  Bench Press                 333\n",
       "2999    Daniel Lee   22        83 kg     Deadlift                 280"
      ]
     },
     "execution_count": 4,
     "metadata": {},
     "output_type": "execute_result"
    }
   ],
   "source": [
    "data.tail(10)"
   ]
  },
  {
   "cell_type": "code",
   "execution_count": 6,
   "id": "aebbab69-34d2-4874-89c9-71c0f70ed7f7",
   "metadata": {},
   "outputs": [
    {
     "data": {
      "text/plain": [
       "(3000, 5)"
      ]
     },
     "execution_count": 6,
     "metadata": {},
     "output_type": "execute_result"
    }
   ],
   "source": [
    "data.shape"
   ]
  },
  {
   "cell_type": "code",
   "execution_count": 7,
   "id": "5026e76f-a6f0-47de-be6d-60639d5cfe3a",
   "metadata": {},
   "outputs": [
    {
     "data": {
      "text/html": [
       "<div>\n",
       "<style scoped>\n",
       "    .dataframe tbody tr th:only-of-type {\n",
       "        vertical-align: middle;\n",
       "    }\n",
       "\n",
       "    .dataframe tbody tr th {\n",
       "        vertical-align: top;\n",
       "    }\n",
       "\n",
       "    .dataframe thead th {\n",
       "        text-align: right;\n",
       "    }\n",
       "</style>\n",
       "<table border=\"1\" class=\"dataframe\">\n",
       "  <thead>\n",
       "    <tr style=\"text-align: right;\">\n",
       "      <th></th>\n",
       "      <th>Age</th>\n",
       "      <th>Amount Lifted (kg)</th>\n",
       "    </tr>\n",
       "  </thead>\n",
       "  <tbody>\n",
       "    <tr>\n",
       "      <th>count</th>\n",
       "      <td>3000.000000</td>\n",
       "      <td>3000.000000</td>\n",
       "    </tr>\n",
       "    <tr>\n",
       "      <th>mean</th>\n",
       "      <td>41.064000</td>\n",
       "      <td>250.332667</td>\n",
       "    </tr>\n",
       "    <tr>\n",
       "      <th>std</th>\n",
       "      <td>13.682628</td>\n",
       "      <td>86.281208</td>\n",
       "    </tr>\n",
       "    <tr>\n",
       "      <th>min</th>\n",
       "      <td>18.000000</td>\n",
       "      <td>100.000000</td>\n",
       "    </tr>\n",
       "    <tr>\n",
       "      <th>25%</th>\n",
       "      <td>29.000000</td>\n",
       "      <td>176.750000</td>\n",
       "    </tr>\n",
       "    <tr>\n",
       "      <th>50%</th>\n",
       "      <td>41.000000</td>\n",
       "      <td>250.000000</td>\n",
       "    </tr>\n",
       "    <tr>\n",
       "      <th>75%</th>\n",
       "      <td>53.000000</td>\n",
       "      <td>325.250000</td>\n",
       "    </tr>\n",
       "    <tr>\n",
       "      <th>max</th>\n",
       "      <td>64.000000</td>\n",
       "      <td>399.000000</td>\n",
       "    </tr>\n",
       "  </tbody>\n",
       "</table>\n",
       "</div>"
      ],
      "text/plain": [
       "               Age  Amount Lifted (kg)\n",
       "count  3000.000000         3000.000000\n",
       "mean     41.064000          250.332667\n",
       "std      13.682628           86.281208\n",
       "min      18.000000          100.000000\n",
       "25%      29.000000          176.750000\n",
       "50%      41.000000          250.000000\n",
       "75%      53.000000          325.250000\n",
       "max      64.000000          399.000000"
      ]
     },
     "execution_count": 7,
     "metadata": {},
     "output_type": "execute_result"
    }
   ],
   "source": [
    "data.describe()"
   ]
  },
  {
   "cell_type": "code",
   "execution_count": 8,
   "id": "458c0e9a-cac9-4056-b79a-96553725dd81",
   "metadata": {},
   "outputs": [
    {
     "data": {
      "text/plain": [
       "Index(['Lifter Name', 'Age', 'Weight Class', 'Lift Type',\n",
       "       'Amount Lifted (kg)'],\n",
       "      dtype='object')"
      ]
     },
     "execution_count": 8,
     "metadata": {},
     "output_type": "execute_result"
    }
   ],
   "source": [
    "data.columns"
   ]
  },
  {
   "cell_type": "code",
   "execution_count": 9,
   "id": "cb958ab7-0d47-48b3-b855-22642561dcfc",
   "metadata": {},
   "outputs": [
    {
     "name": "stdout",
     "output_type": "stream",
     "text": [
      "<class 'pandas.core.frame.DataFrame'>\n",
      "RangeIndex: 3000 entries, 0 to 2999\n",
      "Data columns (total 5 columns):\n",
      " #   Column              Non-Null Count  Dtype \n",
      "---  ------              --------------  ----- \n",
      " 0   Lifter Name         3000 non-null   object\n",
      " 1   Age                 3000 non-null   int64 \n",
      " 2   Weight Class        3000 non-null   object\n",
      " 3   Lift Type           3000 non-null   object\n",
      " 4   Amount Lifted (kg)  3000 non-null   int64 \n",
      "dtypes: int64(2), object(3)\n",
      "memory usage: 117.3+ KB\n"
     ]
    }
   ],
   "source": [
    "data.info()"
   ]
  },
  {
   "cell_type": "code",
   "execution_count": 10,
   "id": "e00c5a76-d143-40f4-8332-04abb23e59fd",
   "metadata": {},
   "outputs": [
    {
     "data": {
      "text/html": [
       "<div>\n",
       "<style scoped>\n",
       "    .dataframe tbody tr th:only-of-type {\n",
       "        vertical-align: middle;\n",
       "    }\n",
       "\n",
       "    .dataframe tbody tr th {\n",
       "        vertical-align: top;\n",
       "    }\n",
       "\n",
       "    .dataframe thead th {\n",
       "        text-align: right;\n",
       "    }\n",
       "</style>\n",
       "<table border=\"1\" class=\"dataframe\">\n",
       "  <thead>\n",
       "    <tr style=\"text-align: right;\">\n",
       "      <th></th>\n",
       "      <th>Lifter Name</th>\n",
       "      <th>Age</th>\n",
       "      <th>Weight Class</th>\n",
       "      <th>Lift Type</th>\n",
       "      <th>Amount Lifted (kg)</th>\n",
       "    </tr>\n",
       "  </thead>\n",
       "  <tbody>\n",
       "    <tr>\n",
       "      <th>0</th>\n",
       "      <td>False</td>\n",
       "      <td>False</td>\n",
       "      <td>False</td>\n",
       "      <td>False</td>\n",
       "      <td>False</td>\n",
       "    </tr>\n",
       "    <tr>\n",
       "      <th>1</th>\n",
       "      <td>False</td>\n",
       "      <td>False</td>\n",
       "      <td>False</td>\n",
       "      <td>False</td>\n",
       "      <td>False</td>\n",
       "    </tr>\n",
       "    <tr>\n",
       "      <th>2</th>\n",
       "      <td>False</td>\n",
       "      <td>False</td>\n",
       "      <td>False</td>\n",
       "      <td>False</td>\n",
       "      <td>False</td>\n",
       "    </tr>\n",
       "    <tr>\n",
       "      <th>3</th>\n",
       "      <td>False</td>\n",
       "      <td>False</td>\n",
       "      <td>False</td>\n",
       "      <td>False</td>\n",
       "      <td>False</td>\n",
       "    </tr>\n",
       "    <tr>\n",
       "      <th>4</th>\n",
       "      <td>False</td>\n",
       "      <td>False</td>\n",
       "      <td>False</td>\n",
       "      <td>False</td>\n",
       "      <td>False</td>\n",
       "    </tr>\n",
       "    <tr>\n",
       "      <th>...</th>\n",
       "      <td>...</td>\n",
       "      <td>...</td>\n",
       "      <td>...</td>\n",
       "      <td>...</td>\n",
       "      <td>...</td>\n",
       "    </tr>\n",
       "    <tr>\n",
       "      <th>2995</th>\n",
       "      <td>False</td>\n",
       "      <td>False</td>\n",
       "      <td>False</td>\n",
       "      <td>False</td>\n",
       "      <td>False</td>\n",
       "    </tr>\n",
       "    <tr>\n",
       "      <th>2996</th>\n",
       "      <td>False</td>\n",
       "      <td>False</td>\n",
       "      <td>False</td>\n",
       "      <td>False</td>\n",
       "      <td>False</td>\n",
       "    </tr>\n",
       "    <tr>\n",
       "      <th>2997</th>\n",
       "      <td>False</td>\n",
       "      <td>False</td>\n",
       "      <td>False</td>\n",
       "      <td>False</td>\n",
       "      <td>False</td>\n",
       "    </tr>\n",
       "    <tr>\n",
       "      <th>2998</th>\n",
       "      <td>False</td>\n",
       "      <td>False</td>\n",
       "      <td>False</td>\n",
       "      <td>False</td>\n",
       "      <td>False</td>\n",
       "    </tr>\n",
       "    <tr>\n",
       "      <th>2999</th>\n",
       "      <td>False</td>\n",
       "      <td>False</td>\n",
       "      <td>False</td>\n",
       "      <td>False</td>\n",
       "      <td>False</td>\n",
       "    </tr>\n",
       "  </tbody>\n",
       "</table>\n",
       "<p>3000 rows × 5 columns</p>\n",
       "</div>"
      ],
      "text/plain": [
       "      Lifter Name    Age  Weight Class  Lift Type  Amount Lifted (kg)\n",
       "0           False  False         False      False               False\n",
       "1           False  False         False      False               False\n",
       "2           False  False         False      False               False\n",
       "3           False  False         False      False               False\n",
       "4           False  False         False      False               False\n",
       "...           ...    ...           ...        ...                 ...\n",
       "2995        False  False         False      False               False\n",
       "2996        False  False         False      False               False\n",
       "2997        False  False         False      False               False\n",
       "2998        False  False         False      False               False\n",
       "2999        False  False         False      False               False\n",
       "\n",
       "[3000 rows x 5 columns]"
      ]
     },
     "execution_count": 10,
     "metadata": {},
     "output_type": "execute_result"
    }
   ],
   "source": [
    "#null values\n",
    "\n",
    "data.isnull()"
   ]
  },
  {
   "cell_type": "code",
   "execution_count": 11,
   "id": "480fe4a9-95d9-457b-bf76-8bf6b674ebc6",
   "metadata": {},
   "outputs": [
    {
     "data": {
      "text/plain": [
       "Lifter Name           0\n",
       "Age                   0\n",
       "Weight Class          0\n",
       "Lift Type             0\n",
       "Amount Lifted (kg)    0\n",
       "dtype: int64"
      ]
     },
     "execution_count": 11,
     "metadata": {},
     "output_type": "execute_result"
    }
   ],
   "source": [
    "data.isnull().sum()"
   ]
  },
  {
   "cell_type": "code",
   "execution_count": 12,
   "id": "01f4b665-a102-40f7-af6d-34175592d690",
   "metadata": {},
   "outputs": [
    {
     "data": {
      "text/plain": [
       "0      59 kg\n",
       "1      83 kg\n",
       "2     105 kg\n",
       "3      66 kg\n",
       "4      74 kg\n",
       "5      74 kg\n",
       "6      83 kg\n",
       "7     120 kg\n",
       "8      93 kg\n",
       "9      66 kg\n",
       "10     52 kg\n",
       "11     52 kg\n",
       "12     74 kg\n",
       "13    120 kg\n",
       "14     74 kg\n",
       "Name: Weight Class, dtype: object"
      ]
     },
     "execution_count": 12,
     "metadata": {},
     "output_type": "execute_result"
    }
   ],
   "source": [
    "data['Weight Class'].head(15)"
   ]
  },
  {
   "cell_type": "code",
   "execution_count": 14,
   "id": "f1a535f1-4bce-4c87-bf55-66c94055791e",
   "metadata": {},
   "outputs": [
    {
     "data": {
      "text/html": [
       "<div>\n",
       "<style scoped>\n",
       "    .dataframe tbody tr th:only-of-type {\n",
       "        vertical-align: middle;\n",
       "    }\n",
       "\n",
       "    .dataframe tbody tr th {\n",
       "        vertical-align: top;\n",
       "    }\n",
       "\n",
       "    .dataframe thead th {\n",
       "        text-align: right;\n",
       "    }\n",
       "</style>\n",
       "<table border=\"1\" class=\"dataframe\">\n",
       "  <thead>\n",
       "    <tr style=\"text-align: right;\">\n",
       "      <th></th>\n",
       "      <th>Lift Type</th>\n",
       "      <th>Amount Lifted (kg)</th>\n",
       "    </tr>\n",
       "  </thead>\n",
       "  <tbody>\n",
       "    <tr>\n",
       "      <th>0</th>\n",
       "      <td>Bench Press</td>\n",
       "      <td>269</td>\n",
       "    </tr>\n",
       "    <tr>\n",
       "      <th>1</th>\n",
       "      <td>Bench Press</td>\n",
       "      <td>179</td>\n",
       "    </tr>\n",
       "    <tr>\n",
       "      <th>2</th>\n",
       "      <td>Bench Press</td>\n",
       "      <td>235</td>\n",
       "    </tr>\n",
       "    <tr>\n",
       "      <th>3</th>\n",
       "      <td>Squat</td>\n",
       "      <td>359</td>\n",
       "    </tr>\n",
       "    <tr>\n",
       "      <th>4</th>\n",
       "      <td>Deadlift</td>\n",
       "      <td>221</td>\n",
       "    </tr>\n",
       "    <tr>\n",
       "      <th>5</th>\n",
       "      <td>Squat</td>\n",
       "      <td>264</td>\n",
       "    </tr>\n",
       "    <tr>\n",
       "      <th>6</th>\n",
       "      <td>Deadlift</td>\n",
       "      <td>132</td>\n",
       "    </tr>\n",
       "    <tr>\n",
       "      <th>7</th>\n",
       "      <td>Bench Press</td>\n",
       "      <td>178</td>\n",
       "    </tr>\n",
       "    <tr>\n",
       "      <th>8</th>\n",
       "      <td>Squat</td>\n",
       "      <td>265</td>\n",
       "    </tr>\n",
       "    <tr>\n",
       "      <th>9</th>\n",
       "      <td>Bench Press</td>\n",
       "      <td>239</td>\n",
       "    </tr>\n",
       "    <tr>\n",
       "      <th>10</th>\n",
       "      <td>Deadlift</td>\n",
       "      <td>328</td>\n",
       "    </tr>\n",
       "    <tr>\n",
       "      <th>11</th>\n",
       "      <td>Deadlift</td>\n",
       "      <td>347</td>\n",
       "    </tr>\n",
       "    <tr>\n",
       "      <th>12</th>\n",
       "      <td>Bench Press</td>\n",
       "      <td>398</td>\n",
       "    </tr>\n",
       "    <tr>\n",
       "      <th>13</th>\n",
       "      <td>Bench Press</td>\n",
       "      <td>396</td>\n",
       "    </tr>\n",
       "    <tr>\n",
       "      <th>14</th>\n",
       "      <td>Bench Press</td>\n",
       "      <td>111</td>\n",
       "    </tr>\n",
       "    <tr>\n",
       "      <th>15</th>\n",
       "      <td>Deadlift</td>\n",
       "      <td>133</td>\n",
       "    </tr>\n",
       "    <tr>\n",
       "      <th>16</th>\n",
       "      <td>Deadlift</td>\n",
       "      <td>396</td>\n",
       "    </tr>\n",
       "    <tr>\n",
       "      <th>17</th>\n",
       "      <td>Deadlift</td>\n",
       "      <td>273</td>\n",
       "    </tr>\n",
       "    <tr>\n",
       "      <th>18</th>\n",
       "      <td>Bench Press</td>\n",
       "      <td>120</td>\n",
       "    </tr>\n",
       "    <tr>\n",
       "      <th>19</th>\n",
       "      <td>Deadlift</td>\n",
       "      <td>245</td>\n",
       "    </tr>\n",
       "  </tbody>\n",
       "</table>\n",
       "</div>"
      ],
      "text/plain": [
       "      Lift Type  Amount Lifted (kg)\n",
       "0   Bench Press                 269\n",
       "1   Bench Press                 179\n",
       "2   Bench Press                 235\n",
       "3         Squat                 359\n",
       "4      Deadlift                 221\n",
       "5         Squat                 264\n",
       "6      Deadlift                 132\n",
       "7   Bench Press                 178\n",
       "8         Squat                 265\n",
       "9   Bench Press                 239\n",
       "10     Deadlift                 328\n",
       "11     Deadlift                 347\n",
       "12  Bench Press                 398\n",
       "13  Bench Press                 396\n",
       "14  Bench Press                 111\n",
       "15     Deadlift                 133\n",
       "16     Deadlift                 396\n",
       "17     Deadlift                 273\n",
       "18  Bench Press                 120\n",
       "19     Deadlift                 245"
      ]
     },
     "execution_count": 14,
     "metadata": {},
     "output_type": "execute_result"
    }
   ],
   "source": [
    "data[['Lift Type','Amount Lifted (kg)']].head(20)"
   ]
  },
  {
   "cell_type": "code",
   "execution_count": 22,
   "id": "630f515f-e0f0-434a-a950-beb1fc80bd62",
   "metadata": {},
   "outputs": [
    {
     "name": "stdout",
     "output_type": "stream",
     "text": [
      "Lift Type\n",
      "Deadlift       1025\n",
      "Bench Press    1011\n",
      "Squat           964\n",
      "Name: count, dtype: int64\n"
     ]
    }
   ],
   "source": [
    "counts=print(data['Lift Type'].value_counts())"
   ]
  },
  {
   "cell_type": "code",
   "execution_count": 24,
   "id": "e3e4d5ec-82a1-4197-902b-4d51396d6a0a",
   "metadata": {},
   "outputs": [
    {
     "data": {
      "text/plain": [
       "<Axes: xlabel='Lift Type', ylabel='count'>"
      ]
     },
     "execution_count": 24,
     "metadata": {},
     "output_type": "execute_result"
    },
    {
     "data": {
      "image/png": "[encoded data removed]",
      "text/plain": [
       "<Figure size 640x480 with 1 Axes>"
      ]
     },
     "metadata": {},
     "output_type": "display_data"
    }
   ],
   "source": [
    "df=data[data.index.isin(range(55,75))]\n",
    "sns.countplot(x='Lift Type', data=df)"
   ]
  },
  {
   "cell_type": "code",
   "execution_count": 25,
   "id": "d3aa51d6-0b5b-42dc-9101-3e47a2957462",
   "metadata": {},
   "outputs": [
    {
     "name": "stdout",
     "output_type": "stream",
     "text": [
      "           Lifter Name  Age Weight Class    Lift Type  Amount Lifted (kg)\n",
      "1             John Doe   60        83 kg  Bench Press                 179\n",
      "4         Laura Taylor   56        74 kg     Deadlift                 221\n",
      "5         Sarah Thomas   56        74 kg        Squat                 264\n",
      "8      Michael Johnson   55        93 kg        Squat                 265\n",
      "12    Matthew Anderson   64        74 kg  Bench Press                 398\n",
      "...                ...  ...          ...          ...                 ...\n",
      "2989       Chris Brown   56        52 kg     Deadlift                 182\n",
      "2991          John Doe   64        93 kg     Deadlift                 263\n",
      "2992          John Doe   51        52 kg  Bench Press                 170\n",
      "2994      Sarah Thomas   62       105 kg  Bench Press                 191\n",
      "2997      Sarah Thomas   62         Open        Squat                 148\n",
      "\n",
      "[917 rows x 5 columns]\n"
     ]
    }
   ],
   "source": [
    "age_50=data[data['Age']>50]\n",
    "print(age_50)"
   ]
  },
  {
   "cell_type": "code",
   "execution_count": 26,
   "id": "05662dce-b4c4-48f6-b4d3-f243f5ee0dfa",
   "metadata": {},
   "outputs": [
    {
     "data": {
      "text/plain": [
       "<Axes: xlabel='Weight Class', ylabel='Age'>"
      ]
     },
     "execution_count": 26,
     "metadata": {},
     "output_type": "execute_result"
    },
    {
     "data": {
      "image/png": "[encoded data removed]",
      "text/plain": [
       "<Figure size 640x480 with 1 Axes>"
      ]
     },
     "metadata": {},
     "output_type": "display_data"
    }
   ],
   "source": [
    "df=data[data['Age']>=50]\n",
    "sns.stripplot(x='Weight Class' ,y='Age',data=df)"
   ]
  },
  {
   "cell_type": "code",
   "execution_count": 27,
   "id": "daa4de3a-131c-40e1-8a44-382c0f399c6b",
   "metadata": {},
   "outputs": [
    {
     "name": "stdout",
     "output_type": "stream",
     "text": [
      " Max amount of weight lifted is: 399 kg\n",
      "           Lifter Name  Amount Lifted (kg)\n",
      "2778  Matthew Anderson                 399\n",
      "2758       Emily Davis                 399\n",
      "2795        Jane Smith                 399\n",
      "1207   Michael Johnson                 399\n",
      "2105   Michael Johnson                 399\n"
     ]
    }
   ],
   "source": [
    "dt1 = data['Amount Lifted (kg)'].max()\n",
    "print(f\" Max amount of weight lifted is: {dt1} kg\")\n",
    "top_5 = data.sort_values(by='Amount Lifted (kg)', ascending=False).head(5)\n",
    "result = top_5[['Lifter Name', 'Amount Lifted (kg)']]\n",
    "print(result)"
   ]
  },
  {
   "cell_type": "code",
   "execution_count": 28,
   "id": "383408de-ca87-4a35-a666-805d09a6b8b4",
   "metadata": {},
   "outputs": [
    {
     "name": "stdout",
     "output_type": "stream",
     "text": [
      "Lifter names with age greater than 50\n",
      "1               John Doe\n",
      "4           Laura Taylor\n",
      "5           Sarah Thomas\n",
      "8        Michael Johnson\n",
      "12      Matthew Anderson\n",
      "              ...       \n",
      "2989         Chris Brown\n",
      "2991            John Doe\n",
      "2992            John Doe\n",
      "2994        Sarah Thomas\n",
      "2997        Sarah Thomas\n",
      "Name: Lifter Name, Length: 917, dtype: object\n",
      "Axes(0.125,0.11;0.775x0.77)\n"
     ]
    },
    {
     "data": {
      "image/png": "[encoded data removed]",
      "text/plain": [
       "<Figure size 640x480 with 1 Axes>"
      ]
     },
     "metadata": {},
     "output_type": "display_data"
    }
   ],
   "source": [
    "dt2 = data[data['Age'] > 50]\n",
    "print(\"Lifter names with age greater than 50\")\n",
    "print(dt2['Lifter Name'])\n",
    "print(sns.boxplot(dt2))\n",
    "plt.title('Box Plot of age for Lifters age more than 50')\n",
    "plt.show()"
   ]
  },
  {
   "cell_type": "code",
   "execution_count": 30,
   "id": "a52b75d9-b4c8-42d2-9393-d462690d94b0",
   "metadata": {},
   "outputs": [
    {
     "name": "stdout",
     "output_type": "stream",
     "text": [
      "Persons who performed Deadlifts\n",
      "['Laura Taylor' 'Emily Davis' 'Daniel Lee' 'Jane Smith' 'Chris Brown'\n",
      " 'John Doe' 'Sarah Thomas' 'Jessica Wilson' 'Michael Johnson'\n",
      " 'Matthew Anderson']\n"
     ]
    }
   ],
   "source": [
    "deadlift_lifters = data[data['Lift Type'] == 'Deadlift']\n",
    "deadlift_names = deadlift_lifters['Lifter Name'].unique()\n",
    "print(\"Persons who performed Deadlifts\")\n",
    "print(deadlift_names)"
   ]
  },
  {
   "cell_type": "code",
   "execution_count": null,
   "id": "b130dd01-8c1f-4048-8938-20ca22ba37b2",
   "metadata": {},
   "outputs": [],
   "source": []
  }
 ],
 "metadata": {
  "kernelspec": {
   "display_name": "Python 3 (ipykernel)",
   "language": "python",
   "name": "python3"
  },
  "language_info": {
   "codemirror_mode": {
    "name": "ipython",
    "version": 3
   },
   "file_extension": ".py",
   "mimetype": "text/x-python",
   "name": "python",
   "nbconvert_exporter": "python",
   "pygments_lexer": "ipython3",
   "version": "3.12.4"
  }
 },
 "nbformat": 4,
 "nbformat_minor": 5
}
